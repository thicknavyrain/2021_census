{
 "cells": [
  {
   "cell_type": "code",
   "execution_count": 1,
   "id": "9ce0331e-38f4-4f53-8594-c62d0fba2f32",
   "metadata": {},
   "outputs": [],
   "source": [
    "import pandas as pd\n",
    "import numpy as np"
   ]
  },
  {
   "cell_type": "code",
   "execution_count": 2,
   "id": "a13fe49e-0208-4eee-9fdd-14114bfaa5bb",
   "metadata": {},
   "outputs": [
    {
     "name": "stderr",
     "output_type": "stream",
     "text": [
      "/tmp/ipykernel_119/413822960.py:1: DtypeWarning: Columns (95) have mixed types. Specify dtype option on import or set low_memory=False.\n",
      "  census_2021 = pd.read_csv('housingandsanitation_10%_20221011d.csv')\n"
     ]
    }
   ],
   "source": [
    "census_2021 = pd.read_csv('housingandsanitation_10%_20221011d.csv')"
   ]
  },
  {
   "cell_type": "code",
   "execution_count": 3,
   "id": "cf539142-c042-44e0-98a9-18893db4a34a",
   "metadata": {},
   "outputs": [
    {
     "data": {
      "text/plain": [
       "Index(['nqid', 'region', 'distcode', 'subdist', 'urbrur', 'restype', 'a11',\n",
       "       'a12', 'e01', 'mr01', 'usual_males', 'usual_females', 'usual_members',\n",
       "       'visiting_males', 'visiting_females', 'visitors', 'absent_males',\n",
       "       'absent_females', 'absent_members', 'enummales', 'enumfemales',\n",
       "       'totpopn', 'emigrant_males', 'emigrant_females', 'emigrants',\n",
       "       'deceased_males', 'deceased_females', 'deaths', 'h01', 'h02', 'h03',\n",
       "       'h04', 'h05', 'h06', 'h07a', 'h07b', 'h08a', 'h08b', 'h09a', 'h09b',\n",
       "       'h10', 'h11a', 'h11b', 'h11c', 'h12', 'h13a1', 'h13a2', 'h13b1',\n",
       "       'h13b2', 'h13c1', 'h13c2', 'h13d1', 'h13d2', 'h13e1', 'h13e2', 'h13f1',\n",
       "       'h13f2', 'h13g1', 'h13g2', 'h13h1', 'h13h2', 'h13i1', 'h13i2', 'h13j1',\n",
       "       'h13j2', 'h13k1', 'h13k2', 'h13l1', 'h13l2', 'h13m1', 'h13m2', 'h13n1',\n",
       "       'h13n2', 'h13o1', 'h13o2', 'h13p1', 'h13p2', 'h13q1', 'h13q2', 'h13r1',\n",
       "       'h13r2', 'h13s1', 'h13s2', 'newh03', 's01', 's02', 's03', 's04', 's05',\n",
       "       's06', 's07', 's08a', 's08b', 's08c', 's08d', 's08e', 's08total',\n",
       "       'select', 'weight', 'popweight'],\n",
       "      dtype='object')"
      ]
     },
     "execution_count": 3,
     "metadata": {},
     "output_type": "execute_result"
    }
   ],
   "source": [
    "census_2021.columns"
   ]
  },
  {
   "cell_type": "code",
   "execution_count": 4,
   "id": "d29e23ac-3cf7-49dd-bd6d-b69dac9c297a",
   "metadata": {},
   "outputs": [],
   "source": [
    "column_names = {'h01': 'dwelling_type', 'h02': 'wall_material', 'h03': 'roof_material', 'h04': 'floor_material', 'h05': 'tenancy', 'h06': 'ownership', 'h07a': 'rooms', 'newh03': 'new_roof_material'}\n",
    "census_2021 = census_2021.rename(columns=column_names)\n",
    "\n",
    "def g(df, selected_columns):\n",
    "    df.set_index(['region','distcode', 'subdist'], inplace=True)\n",
    "    grouped = df.groupby(level=[0, 1, 2])\n",
    "    return {col: grouped[col].value_counts().unstack(fill_value=0) for col in selected_columns}\n",
    "\n",
    "selected_columns = list(column_names.values())  # Example; Modify with your desired columns\n",
    "# print(selected_columns)\n",
    "\n",
    "result = g(census_2021.copy(), selected_columns.copy())\n",
    "\n",
    "for col, df_ in result.items():\n",
    "    # print(f\"Value counts for column {col}\")\n",
    "    df_.to_csv(col+'.csv')"
   ]
  },
  {
   "cell_type": "code",
   "execution_count": 5,
   "id": "3a5a7f46-9fae-4cc9-b297-821ca878bb2d",
   "metadata": {},
   "outputs": [],
   "source": [
    "column_names = {'h01': 'dwelling_type', 'h02': 'wall_material', 'h03': 'roof_material', \n",
    "                'h04': 'floor_material', 'h05': 'tenancy', 'h06': 'ownership', \n",
    "                'h07a': 'rooms', 'newh03': 'new_roof_material'}\n",
    "census_2021 = census_2021.rename(columns=column_names)\n",
    "\n",
    "def g(df, selected_columns):\n",
    "    df.set_index(['region', 'distcode', 'subdist'], inplace=True)\n",
    "    grouped = df.groupby(level=[0, 1, 2])\n",
    "    result = {}\n",
    "    for col in sorted(selected_columns):  # Ensure alphabetical order\n",
    "        # Count including NaN values, then fill NaNs in the result with 0\n",
    "        counts = grouped[col].value_counts(dropna=False).unstack(fill_value=0)\n",
    "        \n",
    "        # Separately calculate the NaN count\n",
    "        na_count = counts.pop(np.nan) if np.nan in counts else 0\n",
    "        \n",
    "        # Assign the NaN count to the 'NA' column\n",
    "        counts['NA'] = na_count\n",
    "        \n",
    "        result[col] = counts\n",
    "    return result\n",
    "\n",
    "selected_columns = list(column_names.values())  # Example; Modify with your desired columns\n",
    "\n",
    "result = g(census_2021.copy(), selected_columns.copy())\n",
    "\n",
    "for col, df_ in result.items():\n",
    "    df_.to_csv('Python_outputs/'+col+'.csv')\n",
    "\n"
   ]
  },
  {
   "cell_type": "code",
   "execution_count": 3,
   "id": "92a58569-5c30-4f4e-a1ab-9f4a583ee4fc",
   "metadata": {},
   "outputs": [],
   "source": [
    "column_names = {'h01': 'dwelling_type', 'h02': 'wall_material', 'h03': 'roof_material', \n",
    "                'h04': 'floor_material', 'h05': 'tenancy', 'h06': 'ownership', \n",
    "                'h07a': 'rooms', 'newh03': 'new_roof_material'}\n",
    "census_2021 = census_2021.rename(columns=column_names)\n",
    "\n",
    "def g(df, selected_columns):\n",
    "    df.set_index(['region', 'distcode', 'subdist'], inplace=True)\n",
    "    grouped = df.groupby(level=[0, 1, 2])\n",
    "    result = {}\n",
    "    for col in selected_columns:  # Sorting happens after adding 'NA', ensuring all names are strings\n",
    "        # Count including NaN values, then fill NaNs in the result with 0\n",
    "        counts = grouped[col].value_counts(dropna=False).unstack(fill_value=0)\n",
    "        \n",
    "        # Separately calculate the NaN count and insert it into the DataFrame\n",
    "        if np.nan in counts:\n",
    "            counts['NA'] = counts.pop(np.nan)\n",
    "        else:\n",
    "            counts['NA'] = 0\n",
    "\n",
    "        # Convert all column names to strings to avoid TypeError during sorting\n",
    "        counts.columns = counts.columns.astype(str)\n",
    "        \n",
    "        # Now sort the columns alphabetically, including 'NA'\n",
    "        counts = counts.reindex(sorted(counts.columns), axis=1)\n",
    "        \n",
    "        result[col] = counts\n",
    "    return result\n",
    "\n",
    "selected_columns = list(column_names.values())  # Use the renamed column names\n",
    "\n",
    "result = g(census_2021.copy(), selected_columns.copy())\n",
    "\n",
    "for col, df_ in result.items():\n",
    "    df_.to_csv('Python_outputs/'+col+'.csv')"
   ]
  },
  {
   "cell_type": "code",
   "execution_count": null,
   "id": "bede41ca-dd4b-4023-986f-10511439b66c",
   "metadata": {},
   "outputs": [],
   "source": []
  }
 ],
 "metadata": {
  "kernelspec": {
   "display_name": "Python 3 (ipykernel)",
   "language": "python",
   "name": "python3"
  },
  "language_info": {
   "codemirror_mode": {
    "name": "ipython",
    "version": 3
   },
   "file_extension": ".py",
   "mimetype": "text/x-python",
   "name": "python",
   "nbconvert_exporter": "python",
   "pygments_lexer": "ipython3",
   "version": "3.11.6"
  }
 },
 "nbformat": 4,
 "nbformat_minor": 5
}
