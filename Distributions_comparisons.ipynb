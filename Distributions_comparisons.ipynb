{
 "cells": [
  {
   "cell_type": "code",
   "execution_count": 3,
   "id": "b016e941-5133-417b-bd4b-0426ad01e686",
   "metadata": {},
   "outputs": [
    {
     "name": "stdout",
     "output_type": "stream",
     "text": [
      "dwelling_type.csv: Identical? True\n",
      "floor_material.csv: Identical? True\n",
      "new_roof_material.csv: Identical? True\n",
      "ownership.csv: Identical? True\n",
      "roof_material.csv: Identical? True\n",
      "rooms.csv: Identical? True\n",
      "tenancy.csv: Identical? True\n",
      "wall_material.csv: Identical? True\n"
     ]
    }
   ],
   "source": [
    "import pandas as pd\n",
    "import os\n",
    "\n",
    "# Directories containing the CSV files\n",
    "r_outputs_dir = 'R_outputs'\n",
    "python_outputs_dir = 'Python_outputs'\n",
    "\n",
    "# List of CSV files to compare\n",
    "csv_files = [\n",
    "    'dwelling_type.csv', 'floor_material.csv', 'new_roof_material.csv',\n",
    "    'ownership.csv', 'roof_material.csv', 'rooms.csv',\n",
    "    'tenancy.csv', 'wall_material.csv'\n",
    "]\n",
    "\n",
    "def compare_csv_files(file_name, dir1, dir2):\n",
    "    # Construct file paths\n",
    "    file_path1 = os.path.join(dir1, file_name)\n",
    "    file_path2 = os.path.join(dir2, file_name)\n",
    "    \n",
    "    # Read CSV files into pandas dataframes\n",
    "    df1 = pd.read_csv(file_path1)\n",
    "    df2 = pd.read_csv(file_path2)\n",
    "    \n",
    "    # Reorder df2 columns to match df1's order, excluding the index columns\n",
    "    index_columns = ['region', 'distcode', 'subdist']\n",
    "    data_columns = [col for col in df1.columns if col not in index_columns]\n",
    "    df2 = df2[index_columns + data_columns]\n",
    "    \n",
    "    # Check if dataframes are identical\n",
    "    are_identical = df1.equals(df2)\n",
    "    \n",
    "    return are_identical\n",
    "\n",
    "# Iterate over each CSV file and compare\n",
    "for csv_file in csv_files:\n",
    "    identical = compare_csv_files(csv_file, r_outputs_dir, python_outputs_dir)\n",
    "    print(f'{csv_file}: Identical? {identical}')\n"
   ]
  },
  {
   "cell_type": "code",
   "execution_count": null,
   "id": "30a283ae-63ac-4a19-b200-ed12a2bef2db",
   "metadata": {},
   "outputs": [],
   "source": []
  }
 ],
 "metadata": {
  "kernelspec": {
   "display_name": "Python 3 (ipykernel)",
   "language": "python",
   "name": "python3"
  },
  "language_info": {
   "codemirror_mode": {
    "name": "ipython",
    "version": 3
   },
   "file_extension": ".py",
   "mimetype": "text/x-python",
   "name": "python",
   "nbconvert_exporter": "python",
   "pygments_lexer": "ipython3",
   "version": "3.11.6"
  }
 },
 "nbformat": 4,
 "nbformat_minor": 5
}
